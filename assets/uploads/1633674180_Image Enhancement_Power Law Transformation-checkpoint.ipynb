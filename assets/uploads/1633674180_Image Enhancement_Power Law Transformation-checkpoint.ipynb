{
 "cells": [
  {
   "cell_type": "code",
   "execution_count": null,
   "id": "774a925c",
   "metadata": {},
   "outputs": [],
   "source": [
    "import cv2\n",
    "import numpy as np\n",
    "from matplotlib import pyplot as plt"
   ]
  },
  {
   "cell_type": "code",
   "execution_count": null,
   "id": "72d94f65",
   "metadata": {},
   "outputs": [],
   "source": [
    "def show_image(img, title):\n",
    "    plt.imshow(img)\n",
    "    plt.title(title)\n",
    "    plt.show()"
   ]
  },
  {
   "cell_type": "code",
   "execution_count": null,
   "id": "812ac33c",
   "metadata": {},
   "outputs": [],
   "source": [
    "filename = 'roentgen_original.jpg'\n",
    "img = cv2.imread(filename)"
   ]
  },
  {
   "cell_type": "code",
   "execution_count": null,
   "id": "f82a97d5",
   "metadata": {},
   "outputs": [],
   "source": [
    "show_image( img, filename )\n",
    "gammas = []\n",
    "for gamma in [0.1, 0.3, 0.5, 0.7, 0.9, 1, 1.5, 1.75, 2.0]:\n",
    "      \n",
    "    # Apply gamma correction.\n",
    "    gamma_corrected = np.array(255*(img / 255) ** gamma, dtype = 'uint8')\n",
    "  \n",
    "    # Save edited images.\n",
    "#     cv2.imwrite('gamma_transformed'+str(gamma)+'.jpg', gamma_corrected)\n",
    "#     show_image( gamma_corrected,  'gamma_'+str(gamma)+'.jpg')\n",
    "    gammas.append( gamma_corrected )\n",
    "    \n",
    "show_image(cv2.hconcat(gammas), 'gamma_corrected')\n"
   ]
  },
  {
   "cell_type": "code",
   "execution_count": null,
   "id": "d37033d8",
   "metadata": {},
   "outputs": [],
   "source": []
  }
 ],
 "metadata": {
  "kernelspec": {
   "display_name": "Python 3",
   "language": "python",
   "name": "python3"
  },
  "language_info": {
   "codemirror_mode": {
    "name": "ipython",
    "version": 3
   },
   "file_extension": ".py",
   "mimetype": "text/x-python",
   "name": "python",
   "nbconvert_exporter": "python",
   "pygments_lexer": "ipython3",
   "version": "3.8.8"
  }
 },
 "nbformat": 4,
 "nbformat_minor": 5
}
